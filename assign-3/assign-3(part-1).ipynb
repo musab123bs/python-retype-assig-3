{
 "cells": [
  {
   "cell_type": "code",
   "execution_count": 1,
   "id": "b38e3f0c",
   "metadata": {},
   "outputs": [
    {
     "name": "stdout",
     "output_type": "stream",
     "text": [
      "Twinkle, twinkle, little star\n",
      "        How I wonder what you are!\n",
      "                Up above the world so high,\n",
      "                Like a diamond in the sky\n",
      "Twinkle, twinkle, little star,\n",
      "                How I wonder what you are\n"
     ]
    }
   ],
   "source": [
    "\"\"\"\"\"\"\"\"\"\n",
    "Write a Python program to print the following string in a specific format (see the\n",
    "output).\n",
    "\n",
    "Twinkle, twinkle, little star,\n",
    "How I wonder what you are!\n",
    "Up above the world so high,\n",
    "Like a diamond in the sky.\n",
    "\n",
    "Twinkle, twinkle, little star,\n",
    "How I wonder what you are\n",
    "\n",
    "\"\"\"\"\"\"\"\"\"\n",
    "\n",
    "x=\" \"\n",
    "print(\"Twinkle, twinkle, little star\\n\" +8*x +\"How I wonder what you are!\\n\"+16*x+\"Up above the world so high,\\n\"+16*x+\"Like a diamond in the sky\\nTwinkle, twinkle, little star,\\n\"+16*x+\"How I wonder what you are\");"
   ]
  },
  {
   "cell_type": "code",
   "execution_count": 2,
   "id": "52ec68a9",
   "metadata": {},
   "outputs": [
    {
     "name": "stdout",
     "output_type": "stream",
     "text": [
      "3.8.8\n"
     ]
    }
   ],
   "source": [
    "#Write a python program to get the python version you are using\n",
    "\n",
    "from platform import python_version\n",
    "print (python_version());"
   ]
  },
  {
   "cell_type": "code",
   "execution_count": 3,
   "id": "5aa80bc1",
   "metadata": {},
   "outputs": [
    {
     "name": "stdout",
     "output_type": "stream",
     "text": [
      "24-10-21 16:56:42\n"
     ]
    }
   ],
   "source": [
    "#Write a Python program to display the current date and time.\n",
    "\n",
    "from datetime import datetime\n",
    "now = datetime.now()\n",
    "print (now.strftime(\"%d-%m-%y %H:%M:%S\"));"
   ]
  },
  {
   "cell_type": "code",
   "execution_count": 4,
   "id": "159959a7",
   "metadata": {},
   "outputs": [
    {
     "name": "stdout",
     "output_type": "stream",
     "text": [
      "Enter your Name: Musab\n",
      "Enter Your Last Name: Aziz\n",
      "Aziz Musab\n"
     ]
    }
   ],
   "source": [
    "\"\"\"\"\"\"\"\"\"Write a Python program which accepts the user's first and last name and print them in\n",
    "reverse order with a space between them.\"\"\"\"\"\"\"\"\"\n",
    "\n",
    "\n",
    "fname = input('Enter your Name: ');\n",
    "lname = input('Enter Your Last Name: ');\n",
    "print(lname + \" \" + fname); "
   ]
  },
  {
   "cell_type": "code",
   "execution_count": 5,
   "id": "e3201d34",
   "metadata": {},
   "outputs": [
    {
     "name": "stdout",
     "output_type": "stream",
     "text": [
      "First Number: 55\n",
      "Second Number: 45\n",
      "Total:  100.0\n"
     ]
    }
   ],
   "source": [
    "###Write a python program which takes two inputs from user and print them addition\n",
    "\n",
    "x1 = float(input('First Number: '));\n",
    "x2 = float(input('Second Number: '));\n",
    "total= x1 + x2;\n",
    "print('Total: ', total);"
   ]
  },
  {
   "cell_type": "code",
   "execution_count": 6,
   "id": "ef5599f9",
   "metadata": {},
   "outputs": [
    {
     "name": "stdout",
     "output_type": "stream",
     "text": [
      "Enter Mathematics Number: 90\n",
      "Enter English Number: 80\n",
      "Enter Islamiat Number: 99\n",
      "Enter Physics Number: 90\n",
      "Enter Chemistry Number: 85\n",
      "Please Enter Out of ? : 500\n",
      "Marks Obtained:  444\n",
      "Percentage:  88.8 %\n",
      "\u001b[92mYou Got A+ Grade\u001b[0m\n"
     ]
    }
   ],
   "source": [
    "\"\"\"\"\"\"\"\"\"Write a program which takes 5 inputs from user for different subject’s marks, total it\n",
    "and generate mark sheet using grades ? \"\"\"\"\"\"\"\"\"\n",
    "\n",
    "maths = int(input('Enter Mathematics Number: '));\n",
    "eng = int(input('Enter English Number: '));\n",
    "isl = int(input('Enter Islamiat Number: '));\n",
    "phy = int(input('Enter Physics Number: '));\n",
    "chem = int(input('Enter Chemistry Number: '));\n",
    "total =int(input('Please Enter Out of ? : '));\n",
    "obt_marks = maths + eng + isl + phy + chem; \n",
    "per = (obt_marks/total)*100;\n",
    "if per <= 100 and per >= 80:\n",
    "    print(\"Marks Obtained: \", obt_marks);\n",
    "    print(\"Percentage: \", per , '%');\n",
    "    print(\"\\033[92m\" + \"You Got A+ Grade\" + \"\\033[0m\");\n",
    "    \n",
    "elif per < 80 and per >= 70:\n",
    "    print(\"Marks Obtained: \", obt_marks);\n",
    "    print(\"Percentage: \", per , '%');\n",
    "    print(\"\\033[36m\" + \"You Got A Grade\" + \"\\033[0m\");\n",
    "    \n",
    "elif per < 70 and per >= 60: \n",
    "    print(\"Marks Obtained: \", obt_marks);\n",
    "    print(\"Percentage: \", per , '%');\n",
    "    print(\"\\033[93m\" + \"You Got B Grade\" + \"\\033[0m\");\n",
    "    \n",
    "elif per < 60 and per >= 50: \n",
    "    print(\"Marks Obtained: \", obt_marks);\n",
    "    print(\"Percentage: \", per , '%');\n",
    "    print(\"\\033[91m\" + \"You Got C Grade\" + \"\\033[0m\");\n",
    "    \n",
    "elif per < 50 and per >= 33: \n",
    "    print(\"Marks Obtained: \", obt_marks);\n",
    "    print(\"Percentage: \", per , '%');\n",
    "    print(\"\\033[91m\" + \"You Got D Grade\" + \"\\033[0m\");\n",
    "    \n",
    "elif per > 100 or per < 0: \n",
    "    print(\"Marks Obtained: \", obt_marks);\n",
    "    print(\"Percentage: \", per , '%');\n",
    "    print(\"\\033[91m\" + \"\\033[1m\" + \"Please Enter Valid total marks\" + \"OR\" + \" Positive Obtained Marks\" + \"\\033[0m \");\n",
    "    \n",
    "else:\n",
    "    print(\"Marks Obtained: \", obt_marks);\n",
    "    print(\"Percentage: \", per , '%');\n",
    "    print(\"\\033[91m\" + \"You Failed\" + \"\\033[0m \");"
   ]
  },
  {
   "cell_type": "code",
   "execution_count": 7,
   "id": "27067711",
   "metadata": {},
   "outputs": [
    {
     "name": "stdout",
     "output_type": "stream",
     "text": [
      "Enter A Number: 45\n",
      "\u001b[92mOdd Number!!\u001b[0m\n"
     ]
    }
   ],
   "source": [
    "\"\"\"\"\"\"\"\"\"Write a program which take input from user and identify that the given number is even\n",
    "or odd?\"\"\"\"\"\"\"\"\"\n",
    "\n",
    "num = int(input('Enter A Number: '));\n",
    "if (num%2) == 0 :\n",
    "    print(\"\\033[92m\" +'Even Number!!' + \"\\033[0m\");\n",
    "else: \n",
    "    print(\"\\033[92m\" + 'Odd Number!!' + \"\\033[0m\");"
   ]
  },
  {
   "cell_type": "code",
   "execution_count": 8,
   "id": "ef1865b0",
   "metadata": {},
   "outputs": [
    {
     "name": "stdout",
     "output_type": "stream",
     "text": [
      "\u001b[4mItems of the List:\n",
      "\u001b[0m\n",
      "banana\n",
      "apple\n",
      "mango\n",
      "1\n",
      "2\n",
      "33\n",
      "322\n",
      "1.33\n",
      "a\n",
      " \n",
      "python\n",
      "PHP\n",
      "Number of Items in the List:  12\n"
     ]
    }
   ],
   "source": [
    "###Write a program which print the length of the list?\n",
    "\n",
    "list_items = ['banana', 'apple', 'mango', 1, 2, 33, 322, 1.33, 'a', ' ', \"python\", 'PHP'];\n",
    "print('\\033[4m'+ 'Items of the List:\\n' + \"\\033[0m\");\n",
    "for x in list_items:\n",
    "    print(x);\n",
    "print('Number of Items in the List: ', len(list_items));"
   ]
  },
  {
   "cell_type": "code",
   "execution_count": 9,
   "id": "4420fa75",
   "metadata": {},
   "outputs": [
    {
     "name": "stdout",
     "output_type": "stream",
     "text": [
      "300\n"
     ]
    }
   ],
   "source": [
    "###Write a Python program to sum all the numeric items in a list?\n",
    "\n",
    "arr = [101,99,100];\n",
    "sum_of_arr = sum(arr);\n",
    "print (sum_of_arr);"
   ]
  },
  {
   "cell_type": "code",
   "execution_count": 10,
   "id": "951130d6",
   "metadata": {},
   "outputs": [
    {
     "name": "stdout",
     "output_type": "stream",
     "text": [
      "Largest Number From a Numerics list is  440\n"
     ]
    }
   ],
   "source": [
    "###Write a Python program to get the largest number from a numeric list.\n",
    "\n",
    "list = [1,6,9,55,88,440];\n",
    "print('Largest Number From a Numerics list is ', max(list));"
   ]
  },
  {
   "cell_type": "code",
   "execution_count": null,
   "id": "4fe64b01",
   "metadata": {},
   "outputs": [],
   "source": []
  }
 ],
 "metadata": {
  "kernelspec": {
   "display_name": "Python 3",
   "language": "python",
   "name": "python3"
  },
  "language_info": {
   "codemirror_mode": {
    "name": "ipython",
    "version": 3
   },
   "file_extension": ".py",
   "mimetype": "text/x-python",
   "name": "python",
   "nbconvert_exporter": "python",
   "pygments_lexer": "ipython3",
   "version": "3.8.8"
  }
 },
 "nbformat": 4,
 "nbformat_minor": 5
}
