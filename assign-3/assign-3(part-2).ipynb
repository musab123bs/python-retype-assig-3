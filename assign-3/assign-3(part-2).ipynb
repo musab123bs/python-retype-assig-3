{
 "cells": [
  {
   "cell_type": "code",
   "execution_count": 2,
   "id": "1344dc9b",
   "metadata": {},
   "outputs": [
    {
     "name": "stdout",
     "output_type": "stream",
     "text": [
      "[1, 1, 2, 3]\n"
     ]
    }
   ],
   "source": [
    "\"\"\"\"\"\"\"\"\"\n",
    "Take a list, say for example this one:\n",
    "a = [1, 1, 2, 3, 5, 8, 13, 21, 34, 55, 89]\n",
    "Write a program that prints out all the elements of the list that are less than 5.\n",
    "\n",
    "\"\"\"\"\"\"\"\"\"\n",
    "\n",
    "a = [1, 1, 2, 3, 5, 8, 13, 21, 34, 55, 89];\n",
    "musab = list(filter(lambda i : i<5 , a));\n",
    "print(musab);"
   ]
  },
  {
   "cell_type": "code",
   "execution_count": 5,
   "id": "ea804448",
   "metadata": {},
   "outputs": [
    {
     "name": "stdout",
     "output_type": "stream",
     "text": [
      "Enter Radius of Circle: 2\n",
      "Area is :  12.571428571428571\n"
     ]
    }
   ],
   "source": [
    "\"\"\"\"\"\"\"\"\"Write a Python program which accepts the radius of a circle from the user and compute\n",
    "the area.\"\"\"\"\"\"\"\"\"\n",
    "\n",
    "rad = int(input('Enter Radius of Circle: '));\n",
    "Area = (22/7)* rad**2;\n",
    "print('Area is : ', Area);"
   ]
  },
  {
   "cell_type": "code",
   "execution_count": null,
   "id": "d21b993b",
   "metadata": {},
   "outputs": [],
   "source": []
  }
 ],
 "metadata": {
  "kernelspec": {
   "display_name": "Python 3",
   "language": "python",
   "name": "python3"
  },
  "language_info": {
   "codemirror_mode": {
    "name": "ipython",
    "version": 3
   },
   "file_extension": ".py",
   "mimetype": "text/x-python",
   "name": "python",
   "nbconvert_exporter": "python",
   "pygments_lexer": "ipython3",
   "version": "3.8.8"
  }
 },
 "nbformat": 4,
 "nbformat_minor": 5
}
